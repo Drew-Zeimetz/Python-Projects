{
 "cells": [
  {
   "attachments": {},
   "cell_type": "markdown",
   "metadata": {},
   "source": [
    "## March Madness 2023 regression model to predict tournament wins"
   ]
  },
  {
   "cell_type": "code",
   "execution_count": null,
   "metadata": {},
   "outputs": [],
   "source": [
    "#import packages\n",
    "import pandas as pd\n",
    "import statsmodels.api as sm"
   ]
  },
  {
   "cell_type": "code",
   "execution_count": null,
   "metadata": {},
   "outputs": [],
   "source": [
    "# Read in the data from a CSV file\n",
    "data = pd.read_csv(\"Tournament Team Data.csv\")"
   ]
  },
  {
   "cell_type": "code",
   "execution_count": null,
   "metadata": {},
   "outputs": [],
   "source": [
    "# Get the unique values in the \"ROUND\" column\n",
    "rounds = data[\"ROUND\"].unique()\n",
    "\n",
    "# Display the unique values\n",
    "print(rounds)"
   ]
  },
  {
   "attachments": {},
   "cell_type": "markdown",
   "metadata": {},
   "source": [
    "The \"ROUND\" column is the last Round the team played in. To look at the Rounds and how they are displayed in the data set, we use the unique function to see the distinct values in \"ROUND\"."
   ]
  },
  {
   "cell_type": "code",
   "execution_count": null,
   "metadata": {},
   "outputs": [],
   "source": [
    "\n",
    "# Define a function to convert round numbers to wins\n",
    "def round_to_wins(round_num):\n",
    "    if round_num == 68 or round_num == 64:\n",
    "        return 0\n",
    "    elif round_num == 32:\n",
    "        return 1\n",
    "    elif round_num == 16:\n",
    "        return 2\n",
    "    elif round_num == 8:\n",
    "        return 3\n",
    "    elif round_num == 4:\n",
    "        return 4\n",
    "    elif round_num == 2:\n",
    "        return 5\n",
    "    elif round_num == 1:\n",
    "        return 6\n",
    "    else:\n",
    "        return None\n",
    "\n",
    "\n",
    "# Apply the function to create a new \"WINS\" column\n",
    "data[\"WINS\"] = data[\"ROUND\"].apply(round_to_wins)"
   ]
  },
  {
   "attachments": {},
   "cell_type": "markdown",
   "metadata": {},
   "source": [
    "This code defines a function named \"round_to_wins\" that takes a round number as its input and returns the corresponding number of wins for that team in the tournament. The function is then applied to a column named \"ROUND\" in a dataset called \"data\" using the .apply() function. The results are stored in a new column called \"WINS\" in the same dataset."
   ]
  },
  {
   "cell_type": "code",
   "execution_count": null,
   "metadata": {},
   "outputs": [],
   "source": [
    "# Display the expected value of wins by 'SEED'\n",
    "expected_wins = data.groupby('SEED')['WINS'].mean()\n",
    "print(expected_wins)"
   ]
  },
  {
   "attachments": {},
   "cell_type": "markdown",
   "metadata": {},
   "source": [
    "This code groups the data by \"SEED\" and calculates the average number of wins for each group using the .groupby() function and the .mean() method. It then prints the resulting expected value of wins for each \"SEED\" group."
   ]
  },
  {
   "cell_type": "code",
   "execution_count": null,
   "metadata": {},
   "outputs": [],
   "source": [
    "# Define the predictor variables\n",
    "predictors = ['SEED', 'KENPOM ADJUSTED OFFENSE', 'KENPOM ADJUSTED DEFENSE']\n",
    "\n",
    "# Define the response variable\n",
    "response = 'WINS'\n",
    "\n",
    "# Create the design matrix by adding a constant and selecting the predictor variables\n",
    "X = sm.add_constant(data[predictors])\n",
    "\n",
    "# Define the response variable\n",
    "y = data[response]\n",
    "\n",
    "# Fit the linear regression model\n",
    "model = sm.OLS(y, X).fit()"
   ]
  },
  {
   "attachments": {},
   "cell_type": "markdown",
   "metadata": {},
   "source": [
    "This code defines a linear regression model using the OLS (ordinary least squares) method from the statsmodels library. The predictor variables, response variable, and design matrix are defined, and the linear regression model is fit to the data. The resulting model can be use the SEED, Kenpom Ajusted Offense rating, and Kenpom Adjusted Defense Rating to predict the number of wins a team will have in the tournament. "
   ]
  },
  {
   "cell_type": "code",
   "execution_count": null,
   "metadata": {},
   "outputs": [],
   "source": [
    "# Save the model summary as a text file\n",
    "with open('model_summary.txt', 'w') as file:\n",
    "    file.write(str(model.summary()))"
   ]
  },
  {
   "attachments": {},
   "cell_type": "markdown",
   "metadata": {},
   "source": [
    "![](first_model_summary.png)"
   ]
  },
  {
   "attachments": {},
   "cell_type": "markdown",
   "metadata": {},
   "source": [
    "This is the output of an Ordinary Least Squares (OLS) regression analysis. The model includes three independent variables, SEED, KENPOM ADJUSTED OFFENSE, and KENPOM ADJUSTED DEFENSE, to predict the dependent variable, WINS. The R-squared value of 0.331 suggests that the model explains 33.1% of the variation in WINS. The coefficients for the independent variables and their standard errors, t-statistics, and p-values are also provided. The model suggests that SEED has a negative effect on WINS, while KENPOM ADJUSTED OFFENSE and KENPOM ADJUSTED DEFENSE have positive and negative effects, respectively. The F-statistic of 154.9 and its associated p-value of 1.53e-81 suggest that the model as a whole is statistically significant."
   ]
  },
  {
   "cell_type": "code",
   "execution_count": null,
   "metadata": {},
   "outputs": [],
   "source": [
    "# Convert SEED to categorical variable\n",
    "data['SEED'] = pd.Categorical(data['SEED'])\n",
    "\n",
    "# Define the predictor variables\n",
    "predictors = ['SEED', 'KENPOM ADJUSTED OFFENSE', 'KENPOM ADJUSTED DEFENSE']\n",
    "\n",
    "# Define the response variable\n",
    "response = 'WINS'\n",
    "\n",
    "# Create the design matrix by adding a constant and selecting the predictor variables\n",
    "X = sm.add_constant(pd.get_dummies(data[predictors]))\n",
    "\n",
    "# Define the response variable\n",
    "y = data[response]\n",
    "\n",
    "# Fit the linear regression model\n",
    "model = sm.OLS(y, X).fit()"
   ]
  },
  {
   "attachments": {},
   "cell_type": "markdown",
   "metadata": {},
   "source": [
    " Seed is a discrete numerical value from values 1 to 16. To investigate a way to improve the model I changed the variable Seed to categorical.The 'SEED' variable is first converted to a categorical variable using pandas, and then the predictor variables and response variable are defined. The design matrix is created using the 'add_constant' and 'get_dummies' functions from statsmodels, and the model is fit using the Ordinary Least Squares (OLS) method from statsmodels."
   ]
  },
  {
   "cell_type": "code",
   "execution_count": null,
   "metadata": {},
   "outputs": [],
   "source": [
    "# Save the updated model summary as a text file\n",
    "with open('model_summary_new.txt', 'w') as file:\n",
    "    file.write(str(model.summary()))"
   ]
  },
  {
   "attachments": {},
   "cell_type": "markdown",
   "metadata": {},
   "source": [
    "![](second_model_summary.png)"
   ]
  },
  {
   "attachments": {},
   "cell_type": "markdown",
   "metadata": {},
   "source": [
    "This is the output of a linear regression model where the dependent variable is \"WINS\" and the independent variables include \"KENPOM ADJUSTED OFFENSE\", \"KENPOM ADJUSTED DEFENSE\", and \"SEED\" (with 16 different levels). The R-squared value is 0.421, which means that 42.1% of the variance in the dependent variable is explained by the independent variables. The coefficients of each independent variable show how much the dependent variable changes when the corresponding independent variable changes by one unit while holding all other variables constant. The p-values of the coefficients indicate the statistical significance of each independent variable in the model."
   ]
  },
  {
   "attachments": {},
   "cell_type": "markdown",
   "metadata": {},
   "source": [
    "The new model has a higher R-squared value of 0.421 so this model will be better to use to predict the tournament wins."
   ]
  },
  {
   "cell_type": "code",
   "execution_count": null,
   "metadata": {},
   "outputs": [],
   "source": [
    "# Extract the coefficients and intercept\n",
    "coefficients = model.params[1:]\n",
    "intercept = model.params[0]\n",
    "\n",
    "# Define a function to predict the number of wins\n",
    "def predict_wins(seed, adj_offense, adj_defense):\n",
    "    # Create a dictionary of the predictor variable values\n",
    "    predictors_dict = {'SEED_' + str(seed): 1, \n",
    "                       'KENPOM ADJUSTED OFFENSE': adj_offense, \n",
    "                       'KENPOM ADJUSTED DEFENSE': adj_defense}\n",
    "    \n",
    "    # Calculate the predicted number of wins\n",
    "    wins = intercept\n",
    "    for predictor, value in predictors_dict.items():\n",
    "        wins += coefficients[predictor] * value\n",
    "    \n",
    "    return wins"
   ]
  },
  {
   "attachments": {},
   "cell_type": "markdown",
   "metadata": {},
   "source": [
    "The code extracts the coefficients and intercept from a statistical model and defines a function called predict_wins() that takes in three predictor variables: seed, adjusted offense, and adjusted defense. The function then creates a dictionary of the predictor variable values and uses the coefficients and intercept extracted earlier to calculate the predicted number of wins based on the provided predictor variable values. The predicted number of wins is returned as the output of the function."
   ]
  },
  {
   "attachments": {},
   "cell_type": "markdown",
   "metadata": {},
   "source": [
    "### Function to predict wins:"
   ]
  },
  {
   "cell_type": "code",
   "execution_count": 15,
   "metadata": {},
   "outputs": [
    {
     "name": "stdout",
     "output_type": "stream",
     "text": [
      "This team is expected to win 3.844 games in the tournament.\n"
     ]
    }
   ],
   "source": [
    "# Function to display expected wins\n",
    "pw = predict_wins(1, 120.0, 79.0)\n",
    "pw = round(pw, 3)\n",
    "print(f\"This team is expected to win {pw} games in the tournament.\")"
   ]
  }
 ],
 "metadata": {
  "kernelspec": {
   "display_name": "Python 3",
   "language": "python",
   "name": "python3"
  },
  "language_info": {
   "codemirror_mode": {
    "name": "ipython",
    "version": 3
   },
   "file_extension": ".py",
   "mimetype": "text/x-python",
   "name": "python",
   "nbconvert_exporter": "python",
   "pygments_lexer": "ipython3",
   "version": "3.11.1"
  },
  "orig_nbformat": 4
 },
 "nbformat": 4,
 "nbformat_minor": 2
}
